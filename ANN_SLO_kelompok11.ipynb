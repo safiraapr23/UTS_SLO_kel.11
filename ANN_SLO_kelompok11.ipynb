{
  "nbformat": 4,
  "nbformat_minor": 0,
  "metadata": {
    "colab": {
      "name": "ANN_SLO_kelompok11.ipynb",
      "provenance": [],
      "collapsed_sections": []
    },
    "kernelspec": {
      "name": "python3",
      "display_name": "Python 3"
    }
  },
  "cells": [
    {
      "cell_type": "markdown",
      "metadata": {
        "id": "PhW0EmixjgQM"
      },
      "source": [
        "Kelompok 11\n",
        "\n",
        "Anggota :\n",
        "\n",
        "- Safira Amalia Puspitasari R (2101191008)\n",
        "- Agita Purwandani (2101191006)\n",
        "- Tyas Oksi Praktika (2101191014)"
      ]
    },
    {
      "cell_type": "code",
      "metadata": {
        "id": "L8Ldr7XWlD8E"
      },
      "source": [
        "import pandas as pd #librari berlisensi BSD dan open source\n",
        "import numpy as np # pemanggilan numpy dengan prefix np\n",
        "import matplotlib.pyplot as plt # Penggunaan as artinya kita menggantikan pemanggilan fungsi pyplot pada matplotlib dengan prefix plt untuk proses berikutnya\n",
        "import sklearn # melakukan processing data\n",
        "from sklearn.neural_network import MLPClassifier # mengklasifikasikan skenario percobaan\n",
        "\n",
        "# Import necessary modules\n",
        "from sklearn.model_selection import train_test_split # untuk membagi data untuk data uji dan data latih (sublibrary)\n",
        "from sklearn.metrics import accuracy_score # menghitung akurasi subset\n",
        "import seaborn as sns"
      ],
      "execution_count": null,
      "outputs": []
    },
    {
      "cell_type": "code",
      "metadata": {
        "id": "q77kG1JslQ5C"
      },
      "source": [
        "df = pd.read_csv('seeds_dataset.csv') #membaca data dalam bentuk csv dengan bantuan pandas (pd)"
      ],
      "execution_count": null,
      "outputs": []
    },
    {
      "cell_type": "code",
      "metadata": {
        "id": "FyCDKskpmVoR",
        "outputId": "57c38d3f-49f4-44e6-dbe1-bffa874ab857",
        "colab": {
          "base_uri": "https://localhost:8080/",
          "height": 202
        }
      },
      "source": [
        "df.head() #menampilkan lima data"
      ],
      "execution_count": null,
      "outputs": [
        {
          "output_type": "execute_result",
          "data": {
            "text/html": [
              "<div>\n",
              "<style scoped>\n",
              "    .dataframe tbody tr th:only-of-type {\n",
              "        vertical-align: middle;\n",
              "    }\n",
              "\n",
              "    .dataframe tbody tr th {\n",
              "        vertical-align: top;\n",
              "    }\n",
              "\n",
              "    .dataframe thead th {\n",
              "        text-align: right;\n",
              "    }\n",
              "</style>\n",
              "<table border=\"1\" class=\"dataframe\">\n",
              "  <thead>\n",
              "    <tr style=\"text-align: right;\">\n",
              "      <th></th>\n",
              "      <th>area</th>\n",
              "      <th>perimeter</th>\n",
              "      <th>compactness</th>\n",
              "      <th>lengthOfKernel</th>\n",
              "      <th>widthOfKernel</th>\n",
              "      <th>asymmetryCoefficient</th>\n",
              "      <th>lengthOfKernelGroove</th>\n",
              "      <th>seedType</th>\n",
              "    </tr>\n",
              "  </thead>\n",
              "  <tbody>\n",
              "    <tr>\n",
              "      <th>0</th>\n",
              "      <td>15.26</td>\n",
              "      <td>14.84</td>\n",
              "      <td>0.8710</td>\n",
              "      <td>5.763</td>\n",
              "      <td>3.312</td>\n",
              "      <td>2.221</td>\n",
              "      <td>5.220</td>\n",
              "      <td>1</td>\n",
              "    </tr>\n",
              "    <tr>\n",
              "      <th>1</th>\n",
              "      <td>14.88</td>\n",
              "      <td>14.57</td>\n",
              "      <td>0.8811</td>\n",
              "      <td>5.554</td>\n",
              "      <td>3.333</td>\n",
              "      <td>1.018</td>\n",
              "      <td>4.956</td>\n",
              "      <td>1</td>\n",
              "    </tr>\n",
              "    <tr>\n",
              "      <th>2</th>\n",
              "      <td>14.29</td>\n",
              "      <td>14.09</td>\n",
              "      <td>0.9050</td>\n",
              "      <td>5.291</td>\n",
              "      <td>3.337</td>\n",
              "      <td>2.699</td>\n",
              "      <td>4.825</td>\n",
              "      <td>1</td>\n",
              "    </tr>\n",
              "    <tr>\n",
              "      <th>3</th>\n",
              "      <td>13.84</td>\n",
              "      <td>13.94</td>\n",
              "      <td>0.8955</td>\n",
              "      <td>5.324</td>\n",
              "      <td>3.379</td>\n",
              "      <td>2.259</td>\n",
              "      <td>4.805</td>\n",
              "      <td>1</td>\n",
              "    </tr>\n",
              "    <tr>\n",
              "      <th>4</th>\n",
              "      <td>16.14</td>\n",
              "      <td>14.99</td>\n",
              "      <td>0.9034</td>\n",
              "      <td>5.658</td>\n",
              "      <td>3.562</td>\n",
              "      <td>1.355</td>\n",
              "      <td>5.175</td>\n",
              "      <td>1</td>\n",
              "    </tr>\n",
              "  </tbody>\n",
              "</table>\n",
              "</div>"
            ],
            "text/plain": [
              "    area  perimeter  ...  lengthOfKernelGroove  seedType\n",
              "0  15.26      14.84  ...                 5.220         1\n",
              "1  14.88      14.57  ...                 4.956         1\n",
              "2  14.29      14.09  ...                 4.825         1\n",
              "3  13.84      13.94  ...                 4.805         1\n",
              "4  16.14      14.99  ...                 5.175         1\n",
              "\n",
              "[5 rows x 8 columns]"
            ]
          },
          "metadata": {
            "tags": []
          },
          "execution_count": 85
        }
      ]
    },
    {
      "cell_type": "code",
      "metadata": {
        "id": "E19Sq5QambXh",
        "outputId": "31c8a675-56f8-4f73-95f4-ab8ce0a1302e",
        "colab": {
          "base_uri": "https://localhost:8080/",
          "height": 294
        }
      },
      "source": [
        "df.describe().transpose() #data numeric, untuk mengetahui apakah data ada yang NaN"
      ],
      "execution_count": null,
      "outputs": [
        {
          "output_type": "execute_result",
          "data": {
            "text/html": [
              "<div>\n",
              "<style scoped>\n",
              "    .dataframe tbody tr th:only-of-type {\n",
              "        vertical-align: middle;\n",
              "    }\n",
              "\n",
              "    .dataframe tbody tr th {\n",
              "        vertical-align: top;\n",
              "    }\n",
              "\n",
              "    .dataframe thead th {\n",
              "        text-align: right;\n",
              "    }\n",
              "</style>\n",
              "<table border=\"1\" class=\"dataframe\">\n",
              "  <thead>\n",
              "    <tr style=\"text-align: right;\">\n",
              "      <th></th>\n",
              "      <th>count</th>\n",
              "      <th>mean</th>\n",
              "      <th>std</th>\n",
              "      <th>min</th>\n",
              "      <th>25%</th>\n",
              "      <th>50%</th>\n",
              "      <th>75%</th>\n",
              "      <th>max</th>\n",
              "    </tr>\n",
              "  </thead>\n",
              "  <tbody>\n",
              "    <tr>\n",
              "      <th>area</th>\n",
              "      <td>210.0</td>\n",
              "      <td>14.847524</td>\n",
              "      <td>2.909699</td>\n",
              "      <td>10.5900</td>\n",
              "      <td>12.27000</td>\n",
              "      <td>14.35500</td>\n",
              "      <td>17.305000</td>\n",
              "      <td>21.1800</td>\n",
              "    </tr>\n",
              "    <tr>\n",
              "      <th>perimeter</th>\n",
              "      <td>210.0</td>\n",
              "      <td>14.559286</td>\n",
              "      <td>1.305959</td>\n",
              "      <td>12.4100</td>\n",
              "      <td>13.45000</td>\n",
              "      <td>14.32000</td>\n",
              "      <td>15.715000</td>\n",
              "      <td>17.2500</td>\n",
              "    </tr>\n",
              "    <tr>\n",
              "      <th>compactness</th>\n",
              "      <td>210.0</td>\n",
              "      <td>0.870999</td>\n",
              "      <td>0.023629</td>\n",
              "      <td>0.8081</td>\n",
              "      <td>0.85690</td>\n",
              "      <td>0.87345</td>\n",
              "      <td>0.887775</td>\n",
              "      <td>0.9183</td>\n",
              "    </tr>\n",
              "    <tr>\n",
              "      <th>lengthOfKernel</th>\n",
              "      <td>210.0</td>\n",
              "      <td>5.628533</td>\n",
              "      <td>0.443063</td>\n",
              "      <td>4.8990</td>\n",
              "      <td>5.26225</td>\n",
              "      <td>5.52350</td>\n",
              "      <td>5.979750</td>\n",
              "      <td>6.6750</td>\n",
              "    </tr>\n",
              "    <tr>\n",
              "      <th>widthOfKernel</th>\n",
              "      <td>210.0</td>\n",
              "      <td>3.258605</td>\n",
              "      <td>0.377714</td>\n",
              "      <td>2.6300</td>\n",
              "      <td>2.94400</td>\n",
              "      <td>3.23700</td>\n",
              "      <td>3.561750</td>\n",
              "      <td>4.0330</td>\n",
              "    </tr>\n",
              "    <tr>\n",
              "      <th>asymmetryCoefficient</th>\n",
              "      <td>210.0</td>\n",
              "      <td>3.700201</td>\n",
              "      <td>1.503557</td>\n",
              "      <td>0.7651</td>\n",
              "      <td>2.56150</td>\n",
              "      <td>3.59900</td>\n",
              "      <td>4.768750</td>\n",
              "      <td>8.4560</td>\n",
              "    </tr>\n",
              "    <tr>\n",
              "      <th>lengthOfKernelGroove</th>\n",
              "      <td>210.0</td>\n",
              "      <td>5.408071</td>\n",
              "      <td>0.491480</td>\n",
              "      <td>4.5190</td>\n",
              "      <td>5.04500</td>\n",
              "      <td>5.22300</td>\n",
              "      <td>5.877000</td>\n",
              "      <td>6.5500</td>\n",
              "    </tr>\n",
              "    <tr>\n",
              "      <th>seedType</th>\n",
              "      <td>210.0</td>\n",
              "      <td>2.000000</td>\n",
              "      <td>0.818448</td>\n",
              "      <td>1.0000</td>\n",
              "      <td>1.00000</td>\n",
              "      <td>2.00000</td>\n",
              "      <td>3.000000</td>\n",
              "      <td>3.0000</td>\n",
              "    </tr>\n",
              "  </tbody>\n",
              "</table>\n",
              "</div>"
            ],
            "text/plain": [
              "                      count       mean       std  ...       50%        75%      max\n",
              "area                  210.0  14.847524  2.909699  ...  14.35500  17.305000  21.1800\n",
              "perimeter             210.0  14.559286  1.305959  ...  14.32000  15.715000  17.2500\n",
              "compactness           210.0   0.870999  0.023629  ...   0.87345   0.887775   0.9183\n",
              "lengthOfKernel        210.0   5.628533  0.443063  ...   5.52350   5.979750   6.6750\n",
              "widthOfKernel         210.0   3.258605  0.377714  ...   3.23700   3.561750   4.0330\n",
              "asymmetryCoefficient  210.0   3.700201  1.503557  ...   3.59900   4.768750   8.4560\n",
              "lengthOfKernelGroove  210.0   5.408071  0.491480  ...   5.22300   5.877000   6.5500\n",
              "seedType              210.0   2.000000  0.818448  ...   2.00000   3.000000   3.0000\n",
              "\n",
              "[8 rows x 8 columns]"
            ]
          },
          "metadata": {
            "tags": []
          },
          "execution_count": 86
        }
      ]
    },
    {
      "cell_type": "code",
      "metadata": {
        "id": "XWR9eEgFmngq",
        "outputId": "8d971f69-cf5c-4472-9172-8a8902673fb3",
        "colab": {
          "base_uri": "https://localhost:8080/"
        }
      },
      "source": [
        "df.shape #memperlihatkan ukuran data"
      ],
      "execution_count": null,
      "outputs": [
        {
          "output_type": "execute_result",
          "data": {
            "text/plain": [
              "(210, 8)"
            ]
          },
          "metadata": {
            "tags": []
          },
          "execution_count": 87
        }
      ]
    },
    {
      "cell_type": "markdown",
      "metadata": {
        "id": "yDmTkf7jOnnd"
      },
      "source": [
        "Data seeds memiliki 210 data, 7 fitur dan 1 kolom target"
      ]
    },
    {
      "cell_type": "code",
      "metadata": {
        "id": "0YzBkdz7m6OH"
      },
      "source": [
        "X = df[['area','perimeter','compactness','lengthOfKernel','widthOfKernel','asymmetryCoefficient','lengthOfKernelGroove']] #pengelompokan data untuk diambil fiturnya\n",
        "y = df['seedType'] #sebagai target"
      ],
      "execution_count": null,
      "outputs": []
    },
    {
      "cell_type": "markdown",
      "metadata": {
        "id": "v18Xv7tsO53T"
      },
      "source": [
        "X= Fitur\n",
        "y= Target"
      ]
    },
    {
      "cell_type": "code",
      "metadata": {
        "id": "295uec44nbBZ"
      },
      "source": [
        "from sklearn.model_selection import train_test_split\n",
        "X_train, X_test, y_train, y_test = train_test_split(X, y, test_size=0.20, random_state=4) #membagi data dalam trains set\n"
      ],
      "execution_count": null,
      "outputs": []
    },
    {
      "cell_type": "markdown",
      "metadata": {
        "id": "l2ufzaVfPDlF"
      },
      "source": [
        "Membagi data menjadi data uji dan data latih dengan data uji 20% dan data latih 80%.\n",
        "Data diacak dengan nilai 4"
      ]
    },
    {
      "cell_type": "code",
      "metadata": {
        "id": "5sLOvMPc4rIS",
        "outputId": "649e716c-3fa8-4d04-bb35-eda9f307f306",
        "colab": {
          "base_uri": "https://localhost:8080/"
        }
      },
      "source": [
        "y_test #memastikan setiap target/kategori sudah ada di dalam data uji dan data latih"
      ],
      "execution_count": null,
      "outputs": [
        {
          "output_type": "execute_result",
          "data": {
            "text/plain": [
              "34     1\n",
              "195    3\n",
              "118    2\n",
              "18     1\n",
              "91     2\n",
              "1      1\n",
              "123    2\n",
              "173    3\n",
              "143    3\n",
              "82     2\n",
              "169    3\n",
              "11     1\n",
              "177    3\n",
              "112    2\n",
              "68     1\n",
              "88     2\n",
              "175    3\n",
              "199    3\n",
              "193    3\n",
              "209    3\n",
              "14     1\n",
              "139    2\n",
              "196    3\n",
              "76     2\n",
              "90     2\n",
              "182    3\n",
              "45     1\n",
              "127    2\n",
              "189    3\n",
              "62     1\n",
              "198    3\n",
              "93     2\n",
              "33     1\n",
              "48     1\n",
              "101    2\n",
              "116    2\n",
              "6      1\n",
              "47     1\n",
              "185    3\n",
              "77     2\n",
              "133    2\n",
              "171    3\n",
              "Name: seedType, dtype: int64"
            ]
          },
          "metadata": {
            "tags": []
          },
          "execution_count": 90
        }
      ]
    },
    {
      "cell_type": "code",
      "metadata": {
        "id": "JwI7k-tVeAEP",
        "outputId": "71f7ff8a-fe5a-46ef-c9ed-2bc2369cd200",
        "colab": {
          "base_uri": "https://localhost:8080/"
        }
      },
      "source": [
        "print(X_train.shape, X_test.shape) #menampilkan shape fitur pada data latih dan data uji\n",
        "print(y_train.shape, y_test.shape) #menampilkan shape target pada data latih dan data uji "
      ],
      "execution_count": null,
      "outputs": [
        {
          "output_type": "stream",
          "text": [
            "(168, 7) (42, 7)\n",
            "(168,) (42,)\n"
          ],
          "name": "stdout"
        }
      ]
    },
    {
      "cell_type": "markdown",
      "metadata": {
        "id": "k4f8sRWNSXc-"
      },
      "source": [
        "\n",
        "\n",
        "*   Jumlah data latih ada 168 data dan data uji berjumlah 42\n",
        "*   Fitur yang digunakan ada 7 ciri\n",
        "\n",
        "\n",
        "\n",
        "\n",
        "\n"
      ]
    },
    {
      "cell_type": "code",
      "metadata": {
        "id": "RawP9JGBn3zy",
        "outputId": "2263a35f-1102-4fb0-dab1-a48b77988885",
        "colab": {
          "base_uri": "https://localhost:8080/"
        }
      },
      "source": [
        "from sklearn.preprocessing import StandardScaler\n",
        "scaler = StandardScaler()\n",
        "scaler.fit(X_train)\n"
      ],
      "execution_count": null,
      "outputs": [
        {
          "output_type": "execute_result",
          "data": {
            "text/plain": [
              "StandardScaler(copy=True, with_mean=True, with_std=True)"
            ]
          },
          "metadata": {
            "tags": []
          },
          "execution_count": 92
        }
      ]
    },
    {
      "cell_type": "markdown",
      "metadata": {
        "id": "56_QxvOyT0JC"
      },
      "source": [
        "Melakukan Preprocessing pada fitur data latih dan fitur data uji\n",
        "\n",
        "Scaler membuat tiap fitur memiliki nilai rata-rata 0 dan variansi 1 "
      ]
    },
    {
      "cell_type": "code",
      "metadata": {
        "id": "6zwzL3kcoiOL"
      },
      "source": [
        "X_train = scaler.transform(X_train) #mendekripsikan ke dalam scaler X_train dan X_test\n",
        "X_test = scaler.transform(X_test)"
      ],
      "execution_count": null,
      "outputs": []
    },
    {
      "cell_type": "markdown",
      "metadata": {
        "id": "sjK4nFlGVB6Y"
      },
      "source": [
        "Melakukan pembangunan algoritma Neural Network\n",
        "\n",
        "Sistem klasifikasi Neural Network ini menggunakan parameter dua hidden layer dengan hidden layer pertama 10 neuron dan hidden layer kedua 5 neuron dan maksimum iterasi 700 kali, \n",
        "\n",
        "selebihnya paramater yang digunakan adalah auto dari mlpclassifer"
      ]
    },
    {
      "cell_type": "code",
      "metadata": {
        "id": "wEk6MMXrosU2",
        "outputId": "d75ce706-81c5-4ddd-e725-0a30e74fd7f6",
        "colab": {
          "base_uri": "https://localhost:8080/"
        }
      },
      "source": [
        "from sklearn.neural_network import MLPClassifier\n",
        "\n",
        "mlp = MLPClassifier(hidden_layer_sizes=(10,5), max_iter=700)\n",
        "mlp.fit(X_train,y_train)"
      ],
      "execution_count": null,
      "outputs": [
        {
          "output_type": "stream",
          "text": [
            "/usr/local/lib/python3.6/dist-packages/sklearn/neural_network/_multilayer_perceptron.py:571: ConvergenceWarning: Stochastic Optimizer: Maximum iterations (700) reached and the optimization hasn't converged yet.\n",
            "  % self.max_iter, ConvergenceWarning)\n"
          ],
          "name": "stderr"
        },
        {
          "output_type": "execute_result",
          "data": {
            "text/plain": [
              "MLPClassifier(activation='relu', alpha=0.0001, batch_size='auto', beta_1=0.9,\n",
              "              beta_2=0.999, early_stopping=False, epsilon=1e-08,\n",
              "              hidden_layer_sizes=(10, 5), learning_rate='constant',\n",
              "              learning_rate_init=0.001, max_fun=15000, max_iter=700,\n",
              "              momentum=0.9, n_iter_no_change=10, nesterovs_momentum=True,\n",
              "              power_t=0.5, random_state=None, shuffle=True, solver='adam',\n",
              "              tol=0.0001, validation_fraction=0.1, verbose=False,\n",
              "              warm_start=False)"
            ]
          },
          "metadata": {
            "tags": []
          },
          "execution_count": 94
        }
      ]
    },
    {
      "cell_type": "markdown",
      "metadata": {
        "id": "lcvX1rpsXGSw"
      },
      "source": [
        "Selanjutnya melakukan pelatihan pada data latih dan melakukan pengecekan \n",
        "terhadap data latih untuk melihat apakah data latih asli dan data latih predictions benar atau dapat dikenali dengan baik.\n",
        "\n",
        "Confusion matrix untuk melakukan evaluasi pada data latih\n"
      ]
    },
    {
      "cell_type": "code",
      "metadata": {
        "id": "n0VEPdfxr82i",
        "outputId": "0caf4d18-868d-4d96-f635-3139136a97d3",
        "colab": {
          "base_uri": "https://localhost:8080/"
        }
      },
      "source": [
        "predictions = mlp.predict(X_train)\n",
        "from sklearn.metrics import classification_report, confusion_matrix\n",
        "import itertools\n",
        "cnf_matrix = confusion_matrix(y_train, predictions)\n",
        "print(classification_report(y_train,predictions))"
      ],
      "execution_count": null,
      "outputs": [
        {
          "output_type": "stream",
          "text": [
            "              precision    recall  f1-score   support\n",
            "\n",
            "           1       0.95      0.95      0.95        58\n",
            "           2       0.98      0.98      0.98        55\n",
            "           3       0.96      0.96      0.96        55\n",
            "\n",
            "    accuracy                           0.96       168\n",
            "   macro avg       0.96      0.96      0.96       168\n",
            "weighted avg       0.96      0.96      0.96       168\n",
            "\n"
          ],
          "name": "stdout"
        }
      ]
    },
    {
      "cell_type": "markdown",
      "metadata": {
        "id": "zfPkIVSUYLR1"
      },
      "source": [
        "Dapat dilihat akurasi pada algoritma NN dapat berubah ubah dikarenakan bobotnya berubah-berubah, maka dari itu kami melakukan training sebanyak 5 kali dan merata-rata hasil tersebut\n",
        "\n",
        "Training 1 = 93%\n",
        "\n",
        "Training 2 = 97%\n",
        "\n",
        "Trainiig 3 = 94%\n",
        "\n",
        "Training 4 = 98%\n",
        "\n",
        "Training 5 = 96%\n",
        "\n",
        "Rata-rata = 95.6%"
      ]
    },
    {
      "cell_type": "markdown",
      "metadata": {
        "id": "voE43WoPZx7S"
      },
      "source": [
        "Selanjutnya memplotkan confusion matrix pada setiap kelas/kategori, tujuannya untuk mengetahui kelas mana yang masuk kedalam kelas lain"
      ]
    },
    {
      "cell_type": "code",
      "metadata": {
        "id": "aj4wDnYR-avB"
      },
      "source": [
        "def plot_confusion_matrix(cm, classes,\n",
        "                          normalize=False,\n",
        "                          title='Confusion matrix Skenario 1',\n",
        "                          cmap=plt.cm.Blues):\n",
        "    \"\"\"\n",
        "    This function prints and plots the confusion matrix.\n",
        "    Normalization can be applied by setting `normalize=True`.\n",
        "    \"\"\"\n",
        "    if normalize:\n",
        "        cm = cm.astype('float') / cm.sum(axis=1)[:, np.newaxis]\n",
        "        print(\"Normalized confusion matrix\")\n",
        "    else:\n",
        "        print('Confusion matrix, without normalization')\n",
        "\n",
        "    print(cm)\n",
        "\n",
        "    plt.imshow(cm, interpolation='nearest', cmap=cmap)\n",
        "    plt.title(title)\n",
        "    plt.colorbar()\n",
        "    tick_marks = np.arange(len(classes))\n",
        "    plt.xticks(tick_marks, classes, rotation=45)\n",
        "    plt.yticks(tick_marks, classes)\n",
        "\n",
        "    fmt = '.2f' if normalize else 'd'\n",
        "    thresh = cm.max() / 2.\n",
        "    for i, j in itertools.product(range(cm.shape[0]), range(cm.shape[1])):\n",
        "        plt.text(j, i, format(cm[i, j], fmt),\n",
        "                 horizontalalignment=\"center\",\n",
        "                 color=\"white\" if cm[i, j] > thresh else \"black\")\n",
        "\n",
        "    plt.tight_layout()\n",
        "    plt.ylabel('True label')\n",
        "    plt.xlabel('Predicted label')"
      ],
      "execution_count": null,
      "outputs": []
    },
    {
      "cell_type": "code",
      "metadata": {
        "id": "PEvQhElY332g",
        "outputId": "f0e990ad-9645-488c-f79e-60b91aeac976",
        "colab": {
          "base_uri": "https://localhost:8080/",
          "height": 381
        }
      },
      "source": [
        "plt.figure()\n",
        "plot_confusion_matrix(cnf_matrix, classes=['Kama(1)', 'Rosa(2)', 'Canadian(3)'],normalize= False,  title='Confusion matrix Data Latih')"
      ],
      "execution_count": null,
      "outputs": [
        {
          "output_type": "stream",
          "text": [
            "Confusion matrix, without normalization\n",
            "[[55  1  2]\n",
            " [ 1 54  0]\n",
            " [ 2  0 53]]\n"
          ],
          "name": "stdout"
        },
        {
          "output_type": "display_data",
          "data": {
            "image/png": "[encoded data removed]",
            "text/plain": [
              "<Figure size 432x288 with 2 Axes>"
            ]
          },
          "metadata": {
            "tags": [],
            "needs_background": "light"
          }
        }
      ]
    },
    {
      "cell_type": "markdown",
      "metadata": {
        "id": "wKaXfVdlaRfs"
      },
      "source": [
        "- Dapat dilihat pada figure diatas saat training pertama bahwa kelas Kama(1) sebanyak 4 data diprediksi bahwa itu adalah kelas Canadian(3)\n",
        "\n",
        "- Saat training kedua bahwa kelas Canaadian(3) sebanyak 2 data diprediksi bahwa itu adalah kelas Kama(1)\n",
        "\n",
        "- Saat training ketiga bahwa kelas Canaadian(3) sebanyak 2 data diprediksi bahwa itu adalah kelas Kama(1) dan kelas Kama(1) sebanyak 4 data diprediksi bahwa itu adalah kelas Canadian(3)\n",
        "\n",
        "- Saat training keempat bahwa kelas Canadian(3) sebanyak 2 data diprediksi bahwa itu kelas Kama(1) dan sebanyak 2 data Kama(1) diprediksi sebagai Canadian(3)\n",
        "\n",
        "- Saat training kelima hasil sama dengan training keempat namun ada satu data Rosa(2) yang diprediksi sebagai Kama(1) dan sebaliknya"
      ]
    },
    {
      "cell_type": "markdown",
      "metadata": {
        "id": "ziV0fOY2bY2V"
      },
      "source": [
        "Selanjutnya akan dilakukan prediksi/pengujian untuk data uji dan confusion matrix untuk data uji"
      ]
    },
    {
      "cell_type": "code",
      "metadata": {
        "id": "b5HZmDOcovdL",
        "outputId": "20787892-e744-40d1-bd75-3323bafda499",
        "colab": {
          "base_uri": "https://localhost:8080/",
          "height": 606
        }
      },
      "source": [
        "predictions= mlp.predict(X_test)\n",
        "from sklearn.metrics import classification_report,confusion_matrix\n",
        "cnf_matrix = confusion_matrix(y_test, predictions)\n",
        "print(confusion_matrix(y_test,predictions))\n",
        "print(classification_report(y_test,predictions))\n",
        "plt.figure()\n",
        "plot_confusion_matrix(cnf_matrix, classes=['Kama(1)', 'Rosa(2)', 'Canadian(3)'],normalize= False,  title='Confusion matrix Testdata')"
      ],
      "execution_count": null,
      "outputs": [
        {
          "output_type": "stream",
          "text": [
            "[[12  0  0]\n",
            " [ 0 15  0]\n",
            " [ 1  0 14]]\n",
            "              precision    recall  f1-score   support\n",
            "\n",
            "           1       0.92      1.00      0.96        12\n",
            "           2       1.00      1.00      1.00        15\n",
            "           3       1.00      0.93      0.97        15\n",
            "\n",
            "    accuracy                           0.98        42\n",
            "   macro avg       0.97      0.98      0.98        42\n",
            "weighted avg       0.98      0.98      0.98        42\n",
            "\n",
            "Confusion matrix, without normalization\n",
            "[[12  0  0]\n",
            " [ 0 15  0]\n",
            " [ 1  0 14]]\n"
          ],
          "name": "stdout"
        },
        {
          "output_type": "display_data",
          "data": {
            "image/png": "[encoded data removed]",
            "text/plain": [
              "<Figure size 432x288 with 2 Axes>"
            ]
          },
          "metadata": {
            "tags": [],
            "needs_background": "light"
          }
        }
      ]
    },
    {
      "cell_type": "markdown",
      "metadata": {
        "id": "SjRQiytWdGGH"
      },
      "source": [
        "Pada hasil pengujian data uji dapat dilihat hasil dari akurasi pengujian, akurasi pengujian diperlakukan sama dengan pegujian data latih yaitu dengan melakukan rata-rata akurasi dari 5 kali pengujian.\n",
        "\n",
        "Pengujian 1 = 97%\n",
        "\n",
        "Pengujian 2 = 97%\n",
        "\n",
        "Pengujian 3 = 97%\n",
        "\n",
        "Pengujian 4 = 97%\n",
        "\n",
        "Pengujian 5 = 97%\n",
        "\n",
        "Rata-rata = 97%"
      ]
    },
    {
      "cell_type": "markdown",
      "metadata": {
        "id": "CNb3-46EcprL"
      },
      "source": [
        "- Pada hasil pengujian pertama dapat dilihat kelas Canadian(3) ada satu data yang masuk prediksi pada kelas Kama(1)\n",
        "\n",
        "- Pada hasil pengujian kedua hasil sama dengan pengujian pertama\n",
        "\n",
        "- Pada hasil pengujian ketiga hasil sama dengan pengujian pertama dan kedua\n",
        "\n",
        "- Pada hasil pengujian keemapt hasil sama dengan pengujian sebelumnya\n",
        "\n",
        "- Pada hasil pengujian kelima hasil sama dengan pengujian sebelumnya"
      ]
    },
    {
      "cell_type": "markdown",
      "metadata": {
        "id": "eoLCl_KTf55M"
      },
      "source": [
        "Kesimpulan :\n",
        "akurasi pada algoritma NN dapat berubah ubah dikarenakan bobotnya berubah-berubah dari 5 kali percobaan, dimana nilai training tertinggi pada uji coba ke 4 yaitu 98%, rata rata akurasi pelatihan pada lagoritma NN adalah 95.6%.\n",
        "Hasil pengujian data uji dapat dilihat hasil dari akurasi pengujian dengan 5 kali percobaan mendapatkan hasil yang sama yaitu 97%.\n",
        "\n",
        "Dilihat dari data diatas bahwa kelas Kama(1) diprediksi menjadi kelas Candian(3) dan kebalikannya, kemungkinan dikarenakan nilai salah satu ciri fitur dari kedua kelas tersebut hampir mirip."
      ]
    }
  ]
}